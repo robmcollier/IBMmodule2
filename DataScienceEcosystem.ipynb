{
 "cells": [
  {
   "cell_type": "markdown",
   "id": "e83bacad-809e-432b-8952-b492f1926150",
   "metadata": {},
   "source": [
    "# Data Scient Tools and Ecosystem"
   ]
  },
  {
   "cell_type": "markdown",
   "id": "7dd0d6dc-a710-4c0f-b346-b3a503d99fd9",
   "metadata": {},
   "source": [
    "In this notebook, Data Science Tools and Ecosystem are summarized.\n"
   ]
  },
  {
   "cell_type": "markdown",
   "id": "6819efe4-3340-4611-93d2-56e98a089a23",
   "metadata": {},
   "source": [
    "**Objectives:**\n",
    "+ List popular languages for Data Science\n",
    "+ Understand packages, APIs and Data sets\n",
    "+ Introduction to Jyupyter Notebooks\n",
    "+ Introdcution to RStudio\n",
    "+ Set up first GitHub account"
   ]
  },
  {
   "cell_type": "markdown",
   "id": "baba8f52-cf8f-401e-80ef-c9ab03b9aecf",
   "metadata": {},
   "source": [
    "Some of the popular languages that Data Scientists use are:\n",
    "1. Python\n",
    "2. R\n",
    "3. SQL\n"
   ]
  },
  {
   "cell_type": "markdown",
   "id": "2400beca-46e3-4869-9116-3f00d155a127",
   "metadata": {},
   "source": [
    "Some of the commonly used libraries used by Data Scientists include:\n",
    "1. TensorFlow\n",
    "2. PyTorch\n",
    "3. Keras\n",
    "4. Scikit-learn"
   ]
  },
  {
   "cell_type": "markdown",
   "id": "1421f58e-5fb0-4872-ba85-b3f3066d4cdf",
   "metadata": {},
   "source": [
    "| Data Science Tools |\n",
    "| ------------------ |\n",
    "| Jupyter Notebooks  |\n",
    "| Visual Studio Code |\n",
    "| R Studio           |"
   ]
  },
  {
   "cell_type": "markdown",
   "id": "7ffd715e-07af-48b0-946c-bfa42ef48ce0",
   "metadata": {},
   "source": [
    "### Below are a few examples of evaluating arithmetic expressions in Python."
   ]
  },
  {
   "cell_type": "markdown",
   "id": "8cb42a45-eb0a-45a1-a771-fc1e85ec97d2",
   "metadata": {},
   "source": [
    "This a simple arithmetic expression to mutiply then add integers"
   ]
  },
  {
   "cell_type": "code",
   "execution_count": 1,
   "id": "c1258679-e93d-47e6-bd7e-3de0bd7b10a9",
   "metadata": {
    "tags": []
   },
   "outputs": [
    {
     "data": {
      "text/plain": [
       "17"
      ]
     },
     "execution_count": 1,
     "metadata": {},
     "output_type": "execute_result"
    }
   ],
   "source": [
    "(3*4)+5"
   ]
  },
  {
   "cell_type": "markdown",
   "id": "b6f90b74-9e43-4f35-9039-c07d4e2e4f7d",
   "metadata": {},
   "source": [
    "This will convert 200 minutes to hours by diving by 60"
   ]
  },
  {
   "cell_type": "code",
   "execution_count": 2,
   "id": "7640da93-fce6-48bf-bd5b-f88f07d190c4",
   "metadata": {
    "tags": []
   },
   "outputs": [
    {
     "data": {
      "text/plain": [
       "3.3333333333333335"
      ]
     },
     "execution_count": 2,
     "metadata": {},
     "output_type": "execute_result"
    }
   ],
   "source": [
    "200/60"
   ]
  },
  {
   "cell_type": "markdown",
   "id": "e53b9cd9-3c42-4e7e-8f82-769cfc2d577a",
   "metadata": {},
   "source": [
    "## Author ##\n",
    "Robert Collier"
   ]
  }
 ],
 "metadata": {
  "kernelspec": {
   "display_name": "Python 3 (ipykernel)",
   "language": "python",
   "name": "python3"
  },
  "language_info": {
   "codemirror_mode": {
    "name": "ipython",
    "version": 3
   },
   "file_extension": ".py",
   "mimetype": "text/x-python",
   "name": "python",
   "nbconvert_exporter": "python",
   "pygments_lexer": "ipython3",
   "version": "3.11.5"
  }
 },
 "nbformat": 4,
 "nbformat_minor": 5
}
